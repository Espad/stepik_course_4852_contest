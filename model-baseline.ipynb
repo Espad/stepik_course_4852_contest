{
 "cells": [
  {
   "cell_type": "markdown",
   "metadata": {},
   "source": [
    "# Описание\n",
    "Здесь представлен baseline для [соревнования](https://stepik.org/lesson/226979/step/1?unit=199528), \n",
    "который дается в конце курса [\"Введение в Data Science и машинное обучение\"](https://stepik.org/course/4852/) на stepic.\n",
    "\n",
    "За основу взять признаки которые создавали в течении курса. ROC_AUC = 0.8792."
   ]
  },
  {
   "cell_type": "markdown",
   "metadata": {},
   "source": [
    "# Импорт"
   ]
  },
  {
   "cell_type": "code",
   "execution_count": 245,
   "metadata": {
    "ExecuteTime": {
     "end_time": "2019-05-17T04:52:05.331790Z",
     "start_time": "2019-05-17T04:52:03.361803Z"
    }
   },
   "outputs": [
    {
     "name": "stdout",
     "output_type": "stream",
     "text": [
      "The autoreload extension is already loaded. To reload it, use:\n",
      "  %reload_ext autoreload\n"
     ]
    }
   ],
   "source": [
    "%load_ext autoreload\n",
    "%autoreload 2\n",
    "\n",
    "import sys\n",
    "import os\n",
    "\n",
    "import pandas as pd\n",
    "import numpy as np\n",
    "import matplotlib.pyplot as plt\n",
    "%matplotlib inline\n",
    "\n",
    "from tqdm import tqdm, tqdm_notebook\n",
    "import datetime\n",
    "\n",
    "from sklearn.ensemble import RandomForestClassifier\n",
    "from sklearn.linear_model import LogisticRegression\n",
    "from sklearn.svm import SVC\n",
    "from sklearn.model_selection import cross_val_score, StratifiedKFold, GridSearchCV\n",
    "from sklearn.metrics import classification_report, roc_auc_score, confusion_matrix, roc_curve, auc, make_scorer\n",
    "from sklearn.impute import SimpleImputer\n",
    "from sklearn.preprocessing import StandardScaler, MinMaxScaler\n",
    "from sklearn.preprocessing import PowerTransformer,QuantileTransformer\n",
    "from sklearn.pipeline import make_pipeline,Pipeline\n",
    "from sklearn.compose import ColumnTransformer\n",
    "\n",
    "\n",
    "from sklearn.externals import joblib\n",
    "\n",
    "import libs.data_helpers as dh\n",
    "import libs.data_iter1 as di\n",
    "import libs.utils.model_utils as mu\n",
    "import libs.submit_report as rep\n",
    "\n",
    "from IPython.core.interactiveshell import InteractiveShell\n",
    "InteractiveShell.ast_node_interactivity = \"all\"\n",
    "\n",
    "from xgboost import XGBClassifier\n",
    "\n",
    "seed = 496"
   ]
  },
  {
   "cell_type": "markdown",
   "metadata": {},
   "source": [
    "# Загрузка и подготовка данных"
   ]
  },
  {
   "cell_type": "code",
   "execution_count": 250,
   "metadata": {
    "ExecuteTime": {
     "end_time": "2019-05-17T04:52:23.714982Z",
     "start_time": "2019-05-17T04:52:05.336183Z"
    }
   },
   "outputs": [
    {
     "name": "stderr",
     "output_type": "stream",
     "text": [
      "E:\\Python\\stepik_course_4852_contest\\libs\\data_helpers.py:12: SettingWithCopyWarning: \n",
      "A value is trying to be set on a copy of a slice from a DataFrame.\n",
      "Try using .loc[row_indexer,col_indexer] = value instead\n",
      "\n",
      "See the caveats in the documentation: http://pandas.pydata.org/pandas-docs/stable/indexing.html#indexing-view-versus-copy\n",
      "  data['date'] = pd.to_datetime(data.timestamp, unit='s')\n",
      "E:\\Python\\stepik_course_4852_contest\\libs\\data_helpers.py:13: SettingWithCopyWarning: \n",
      "A value is trying to be set on a copy of a slice from a DataFrame.\n",
      "Try using .loc[row_indexer,col_indexer] = value instead\n",
      "\n",
      "See the caveats in the documentation: http://pandas.pydata.org/pandas-docs/stable/indexing.html#indexing-view-versus-copy\n",
      "  data['day'] = data.date.dt.date\n"
     ]
    }
   ],
   "source": [
    "# загрузка данных\n",
    "events  = pd.read_csv(\"./data/event_data_train.zip\")\n",
    "submissions = pd.read_csv(\"./data/submissions_data_train.zip\")\n",
    "\n",
    "# разделение данных для обучения на train и test\n",
    "_ = dh.split_events_submissions(events, submissions, test_size=0.2)\n",
    "events_train_orig, events_test_orig, submissions_train_orig, submissions_test_orig = _\n",
    "\n",
    "# подготовка данных\n",
    "X_train, y_train = di.get_x_y(events_train_orig, submissions_train_orig, 5, True)\n",
    "X_test, y_test = di.get_x_y(events_test_orig, submissions_test_orig, 5, True)"
   ]
  },
  {
   "cell_type": "code",
   "execution_count": null,
   "metadata": {},
   "outputs": [],
   "source": []
  },
  {
   "cell_type": "code",
   "execution_count": 251,
   "metadata": {},
   "outputs": [],
   "source": [
    "X_train['correct_ratio'] = X_train.correct / (X_train.correct + X_train.wrong)\n",
    "X_test['correct_ratio'] = X_test.correct / (X_test.correct + X_test.wrong)\n",
    "X_train['steps_discoverd_passed'] = (X_train.discovered - X_train.passed) / X_train.day\n",
    "X_test['steps_discoverd_passed'] = (X_test.discovered - X_test.passed) / X_test.day"
   ]
  },
  {
   "cell_type": "code",
   "execution_count": 252,
   "metadata": {},
   "outputs": [],
   "source": [
    "# add one more metric - tasks pro day?\n",
    "#((X_train.correct + X_train.wrong) / X_train.day)"
   ]
  },
  {
   "cell_type": "code",
   "execution_count": 253,
   "metadata": {},
   "outputs": [
    {
     "data": {
      "text/plain": [
       "(15388, 9)"
      ]
     },
     "execution_count": 253,
     "metadata": {},
     "output_type": "execute_result"
    }
   ],
   "source": [
    "X_train.shape"
   ]
  },
  {
   "cell_type": "code",
   "execution_count": 254,
   "metadata": {},
   "outputs": [],
   "source": [
    "#X_train[X_train.correct/ X_train.day > 2]"
   ]
  },
  {
   "cell_type": "code",
   "execution_count": 255,
   "metadata": {},
   "outputs": [],
   "source": [
    "# wrong ratio"
   ]
  },
  {
   "cell_type": "code",
   "execution_count": 256,
   "metadata": {},
   "outputs": [],
   "source": [
    "# binary features + encoding"
   ]
  },
  {
   "cell_type": "code",
   "execution_count": 257,
   "metadata": {},
   "outputs": [],
   "source": [
    "# filter the data by outliers?"
   ]
  },
  {
   "cell_type": "code",
   "execution_count": 258,
   "metadata": {},
   "outputs": [],
   "source": [
    "# correlation"
   ]
  },
  {
   "cell_type": "code",
   "execution_count": 259,
   "metadata": {},
   "outputs": [
    {
     "data": {
      "text/html": [
       "<div>\n",
       "<style scoped>\n",
       "    .dataframe tbody tr th:only-of-type {\n",
       "        vertical-align: middle;\n",
       "    }\n",
       "\n",
       "    .dataframe tbody tr th {\n",
       "        vertical-align: top;\n",
       "    }\n",
       "\n",
       "    .dataframe thead th {\n",
       "        text-align: right;\n",
       "    }\n",
       "</style>\n",
       "<table border=\"1\" class=\"dataframe\">\n",
       "  <thead>\n",
       "    <tr style=\"text-align: right;\">\n",
       "      <th></th>\n",
       "      <th>correct</th>\n",
       "      <th>wrong</th>\n",
       "      <th>discovered</th>\n",
       "      <th>passed</th>\n",
       "      <th>started_attempt</th>\n",
       "      <th>viewed</th>\n",
       "      <th>day</th>\n",
       "      <th>correct_ratio</th>\n",
       "      <th>steps_discoverd_passed</th>\n",
       "    </tr>\n",
       "    <tr>\n",
       "      <th>user_id</th>\n",
       "      <th></th>\n",
       "      <th></th>\n",
       "      <th></th>\n",
       "      <th></th>\n",
       "      <th></th>\n",
       "      <th></th>\n",
       "      <th></th>\n",
       "      <th></th>\n",
       "      <th></th>\n",
       "    </tr>\n",
       "  </thead>\n",
       "  <tbody>\n",
       "    <tr>\n",
       "      <th>1</th>\n",
       "      <td>0.0</td>\n",
       "      <td>0.0</td>\n",
       "      <td>1</td>\n",
       "      <td>0</td>\n",
       "      <td>0</td>\n",
       "      <td>1</td>\n",
       "      <td>1</td>\n",
       "      <td>NaN</td>\n",
       "      <td>1.0</td>\n",
       "    </tr>\n",
       "    <tr>\n",
       "      <th>3</th>\n",
       "      <td>4.0</td>\n",
       "      <td>4.0</td>\n",
       "      <td>15</td>\n",
       "      <td>15</td>\n",
       "      <td>4</td>\n",
       "      <td>20</td>\n",
       "      <td>1</td>\n",
       "      <td>0.5</td>\n",
       "      <td>0.0</td>\n",
       "    </tr>\n",
       "    <tr>\n",
       "      <th>5</th>\n",
       "      <td>2.0</td>\n",
       "      <td>2.0</td>\n",
       "      <td>1</td>\n",
       "      <td>1</td>\n",
       "      <td>0</td>\n",
       "      <td>1</td>\n",
       "      <td>1</td>\n",
       "      <td>0.5</td>\n",
       "      <td>0.0</td>\n",
       "    </tr>\n",
       "    <tr>\n",
       "      <th>7</th>\n",
       "      <td>0.0</td>\n",
       "      <td>0.0</td>\n",
       "      <td>1</td>\n",
       "      <td>1</td>\n",
       "      <td>0</td>\n",
       "      <td>1</td>\n",
       "      <td>1</td>\n",
       "      <td>NaN</td>\n",
       "      <td>0.0</td>\n",
       "    </tr>\n",
       "    <tr>\n",
       "      <th>8</th>\n",
       "      <td>9.0</td>\n",
       "      <td>21.0</td>\n",
       "      <td>109</td>\n",
       "      <td>84</td>\n",
       "      <td>37</td>\n",
       "      <td>154</td>\n",
       "      <td>1</td>\n",
       "      <td>0.3</td>\n",
       "      <td>25.0</td>\n",
       "    </tr>\n",
       "  </tbody>\n",
       "</table>\n",
       "</div>"
      ],
      "text/plain": [
       "         correct  wrong  discovered  passed  started_attempt  viewed  day  \\\n",
       "user_id                                                                     \n",
       "1            0.0    0.0           1       0                0       1    1   \n",
       "3            4.0    4.0          15      15                4      20    1   \n",
       "5            2.0    2.0           1       1                0       1    1   \n",
       "7            0.0    0.0           1       1                0       1    1   \n",
       "8            9.0   21.0         109      84               37     154    1   \n",
       "\n",
       "         correct_ratio  steps_discoverd_passed  \n",
       "user_id                                         \n",
       "1                  NaN                     1.0  \n",
       "3                  0.5                     0.0  \n",
       "5                  0.5                     0.0  \n",
       "7                  NaN                     0.0  \n",
       "8                  0.3                    25.0  "
      ]
     },
     "execution_count": 259,
     "metadata": {},
     "output_type": "execute_result"
    }
   ],
   "source": [
    "X_train.head()"
   ]
  },
  {
   "cell_type": "code",
   "execution_count": 260,
   "metadata": {},
   "outputs": [],
   "source": [
    "# normalise the data with gaps fill using sklearn\n",
    "df_num_features = X_train.columns.copy()\n",
    "#df_num_features\n",
    "\n",
    "num_features_pipeline = Pipeline([\n",
    "    ('impute', SimpleImputer(missing_values=np.nan, strategy='median',copy = False)), # with median a little bit better\n",
    "    ('scale', MinMaxScaler()),\n",
    "    ('transform', QuantileTransformer(output_distribution='normal'))\n",
    "])\n",
    "\n",
    "preprocessor = ColumnTransformer(\n",
    "    transformers=[\n",
    "        ('num', num_features_pipeline, df_num_features)\n",
    "    ]\n",
    ")"
   ]
  },
  {
   "cell_type": "code",
   "execution_count": null,
   "metadata": {},
   "outputs": [],
   "source": []
  },
  {
   "cell_type": "code",
   "execution_count": 261,
   "metadata": {},
   "outputs": [],
   "source": [
    "baseline_transform = Pipeline(\n",
    "    steps=[\n",
    "        ('preprocessing', preprocessor)\n",
    "    ]\n",
    ")"
   ]
  },
  {
   "cell_type": "code",
   "execution_count": 262,
   "metadata": {},
   "outputs": [],
   "source": [
    "X_train_p = baseline_transform.fit_transform(X_train)\n",
    "X_test_p = baseline_transform.transform(X_test)"
   ]
  },
  {
   "cell_type": "code",
   "execution_count": null,
   "metadata": {},
   "outputs": [],
   "source": []
  },
  {
   "cell_type": "markdown",
   "metadata": {},
   "source": [
    "# Обучение и проверка модели"
   ]
  },
  {
   "cell_type": "markdown",
   "metadata": {},
   "source": [
    "NEural network use"
   ]
  },
  {
   "cell_type": "markdown",
   "metadata": {},
   "source": [
    "## RandomForest"
   ]
  },
  {
   "cell_type": "code",
   "execution_count": 263,
   "metadata": {
    "ExecuteTime": {
     "end_time": "2019-05-17T04:52:24.683995Z",
     "start_time": "2019-05-17T04:52:23.721111Z"
    }
   },
   "outputs": [
    {
     "data": {
      "text/plain": [
       "RandomForestClassifier(bootstrap=True, class_weight='balanced',\n",
       "            criterion='gini', max_depth=None, max_features='auto',\n",
       "            max_leaf_nodes=None, min_impurity_decrease=0.0,\n",
       "            min_impurity_split=None, min_samples_leaf=10,\n",
       "            min_samples_split=10, min_weight_fraction_leaf=0.0,\n",
       "            n_estimators=100, n_jobs=-1, oob_score=False, random_state=496,\n",
       "            verbose=0, warm_start=False)"
      ]
     },
     "execution_count": 263,
     "metadata": {},
     "output_type": "execute_result"
    },
    {
     "name": "stdout",
     "output_type": "stream",
     "text": [
      "roc на test 0.9391948241218123\n"
     ]
    }
   ],
   "source": [
    "rf = RandomForestClassifier(n_estimators=100, n_jobs=-1, \n",
    "                            min_samples_leaf=10, min_samples_split=10, \n",
    "                            class_weight='balanced', random_state = seed)\n",
    "\n",
    "rf.fit(X_train_p, y_train)\n",
    "pred_proba = rf.predict_proba(X_test_p)\n",
    "roc_score = roc_auc_score(y_test, pred_proba[:, 1])\n",
    "print('roc на test', roc_score)\n",
    "# должны получить roc 0.92  +- 0.02"
   ]
  },
  {
   "cell_type": "code",
   "execution_count": 291,
   "metadata": {},
   "outputs": [],
   "source": [
    "skv_gs = StratifiedKFold(n_splits = 5, random_state=seed, shuffle=True)\n",
    "my_scorer = make_scorer(roc_auc_score)\n",
    "    \n",
    "tuned_parameters = [{\n",
    "    'n_estimators' : [30, 50, 100, 200],\n",
    "    'max_depth': [3, 5, 7, 9, 11, 13],\n",
    "    'min_samples_leaf' : [3, 5, 7, 9, 15],\n",
    "    'min_samples_split' : [10, 25, 50, 75, 100, 150]\n",
    "                    }]\n",
    "    \n",
    "bclf = GridSearchCV(rf, tuned_parameters,\n",
    "                        scoring=my_scorer, cv=skv_gs, verbose=1, n_jobs=-1,refit='roc_auc')"
   ]
  },
  {
   "cell_type": "code",
   "execution_count": 292,
   "metadata": {},
   "outputs": [
    {
     "name": "stdout",
     "output_type": "stream",
     "text": [
      "Fitting 5 folds for each of 720 candidates, totalling 3600 fits\n"
     ]
    },
    {
     "name": "stderr",
     "output_type": "stream",
     "text": [
      "[Parallel(n_jobs=-1)]: Using backend LokyBackend with 4 concurrent workers.\n",
      "[Parallel(n_jobs=-1)]: Done  42 tasks      | elapsed:   10.7s\n",
      "[Parallel(n_jobs=-1)]: Done 192 tasks      | elapsed:   36.4s\n",
      "[Parallel(n_jobs=-1)]: Done 442 tasks      | elapsed:  1.3min\n",
      "[Parallel(n_jobs=-1)]: Done 792 tasks      | elapsed:  2.4min\n",
      "[Parallel(n_jobs=-1)]: Done 1242 tasks      | elapsed:  3.9min\n",
      "[Parallel(n_jobs=-1)]: Done 1792 tasks      | elapsed:  5.9min\n",
      "[Parallel(n_jobs=-1)]: Done 2442 tasks      | elapsed:  8.6min\n",
      "[Parallel(n_jobs=-1)]: Done 3192 tasks      | elapsed: 11.8min\n",
      "[Parallel(n_jobs=-1)]: Done 3600 out of 3600 | elapsed: 13.5min finished\n"
     ]
    },
    {
     "data": {
      "text/plain": [
       "GridSearchCV(cv=StratifiedKFold(n_splits=5, random_state=496, shuffle=True),\n",
       "       error_score='raise-deprecating',\n",
       "       estimator=RandomForestClassifier(bootstrap=True, class_weight='balanced',\n",
       "            criterion='gini', max_depth=None, max_features='auto',\n",
       "            max_leaf_nodes=None, min_impurity_decrease=0.0,\n",
       "            min_impurity_split=None, min_samples_leaf=10,\n",
       "            min_samples_split=10, min_weight_fraction_leaf=0.0,\n",
       "            n_estimators=100, n_jobs=-1, oob_score=False, random_state=496,\n",
       "            verbose=0, warm_start=False),\n",
       "       fit_params=None, iid='warn', n_jobs=-1,\n",
       "       param_grid=[{'n_estimators': [30, 50, 100, 200], 'max_depth': [3, 5, 7, 9, 11, 13], 'min_samples_leaf': [3, 5, 7, 9, 15], 'min_samples_split': [10, 25, 50, 75, 100, 150]}],\n",
       "       pre_dispatch='2*n_jobs', refit='roc_auc', return_train_score='warn',\n",
       "       scoring=make_scorer(roc_auc_score), verbose=1)"
      ]
     },
     "execution_count": 292,
     "metadata": {},
     "output_type": "execute_result"
    }
   ],
   "source": [
    "bclf.fit(X_train_p, y_train)"
   ]
  },
  {
   "cell_type": "code",
   "execution_count": 298,
   "metadata": {},
   "outputs": [
    {
     "name": "stdout",
     "output_type": "stream",
     "text": [
      "roc на test 0.9428828290910403\n"
     ]
    }
   ],
   "source": [
    "pred_proba = bclf.predict_proba(X_test_p)\n",
    "roc_score = roc_auc_score(y_test, pred_proba[:, 1])\n",
    "print('roc на test', roc_score)"
   ]
  },
  {
   "cell_type": "code",
   "execution_count": 299,
   "metadata": {},
   "outputs": [
    {
     "data": {
      "text/plain": [
       "<Figure size 432x288 with 0 Axes>"
      ]
     },
     "execution_count": 299,
     "metadata": {},
     "output_type": "execute_result"
    },
    {
     "data": {
      "text/plain": [
       "[<matplotlib.lines.Line2D at 0x1be82b34668>]"
      ]
     },
     "execution_count": 299,
     "metadata": {},
     "output_type": "execute_result"
    },
    {
     "data": {
      "text/plain": [
       "[<matplotlib.lines.Line2D at 0x1be82b06f60>]"
      ]
     },
     "execution_count": 299,
     "metadata": {},
     "output_type": "execute_result"
    },
    {
     "data": {
      "text/plain": [
       "(0.0, 1.0)"
      ]
     },
     "execution_count": 299,
     "metadata": {},
     "output_type": "execute_result"
    },
    {
     "data": {
      "text/plain": [
       "(0.0, 1.05)"
      ]
     },
     "execution_count": 299,
     "metadata": {},
     "output_type": "execute_result"
    },
    {
     "data": {
      "text/plain": [
       "Text(0.5, 0, 'False Positive Rate')"
      ]
     },
     "execution_count": 299,
     "metadata": {},
     "output_type": "execute_result"
    },
    {
     "data": {
      "text/plain": [
       "Text(0, 0.5, 'True Positive Rate')"
      ]
     },
     "execution_count": 299,
     "metadata": {},
     "output_type": "execute_result"
    },
    {
     "data": {
      "text/plain": [
       "Text(0.5, 1.0, 'Receiver operating characteristic example')"
      ]
     },
     "execution_count": 299,
     "metadata": {},
     "output_type": "execute_result"
    },
    {
     "data": {
      "text/plain": [
       "<matplotlib.legend.Legend at 0x1be82b340f0>"
      ]
     },
     "execution_count": 299,
     "metadata": {},
     "output_type": "execute_result"
    },
    {
     "data": {
      "image/png": "[encoded data removed]",
      "text/plain": [
       "<Figure size 432x288 with 1 Axes>"
      ]
     },
     "metadata": {
      "needs_background": "light"
     },
     "output_type": "display_data"
    }
   ],
   "source": [
    "lw = 2\n",
    "fpr, tpr, thresholds = roc_curve(y_test, pred_proba[:,1])\n",
    "roc_auc= auc(fpr, tpr)\n",
    "plt.figure()\n",
    "plt.plot(fpr, tpr, color='darkorange',\n",
    "         lw=2, label='ROC curve (area = %0.2f)' % roc_auc)\n",
    "plt.plot([0, 1], [0, 1], color='navy', lw=lw, linestyle='--')\n",
    "plt.xlim([0.0, 1.0])\n",
    "plt.ylim([0.0, 1.05])\n",
    "plt.xlabel('False Positive Rate')\n",
    "plt.ylabel('True Positive Rate')\n",
    "plt.title('Receiver operating characteristic example')\n",
    "plt.legend(loc=\"lower right\")\n",
    "plt.show()"
   ]
  },
  {
   "cell_type": "markdown",
   "metadata": {},
   "source": [
    "best params\n",
    "{'max_depth': 11,\n",
    " 'min_samples_leaf': 9,\n",
    " 'min_samples_split': 150,\n",
    " 'n_estimators': 30}"
   ]
  },
  {
   "cell_type": "code",
   "execution_count": null,
   "metadata": {},
   "outputs": [],
   "source": [
    "# ENTROPY instead of gini CRITERION!"
   ]
  },
  {
   "cell_type": "code",
   "execution_count": 300,
   "metadata": {},
   "outputs": [],
   "source": [
    "rf = bclf.best_estimator_"
   ]
  },
  {
   "cell_type": "code",
   "execution_count": 301,
   "metadata": {
    "ExecuteTime": {
     "end_time": "2019-05-17T04:52:24.847532Z",
     "start_time": "2019-05-17T04:52:24.689020Z"
    }
   },
   "outputs": [
    {
     "data": {
      "text/html": [
       "<div>\n",
       "<style scoped>\n",
       "    .dataframe tbody tr th:only-of-type {\n",
       "        vertical-align: middle;\n",
       "    }\n",
       "\n",
       "    .dataframe tbody tr th {\n",
       "        vertical-align: top;\n",
       "    }\n",
       "\n",
       "    .dataframe thead th {\n",
       "        text-align: right;\n",
       "    }\n",
       "</style>\n",
       "<table border=\"1\" class=\"dataframe\">\n",
       "  <thead>\n",
       "    <tr style=\"text-align: right;\">\n",
       "      <th></th>\n",
       "      <th>weight</th>\n",
       "    </tr>\n",
       "  </thead>\n",
       "  <tbody>\n",
       "    <tr>\n",
       "      <th>correct</th>\n",
       "      <td>0.385706</td>\n",
       "    </tr>\n",
       "    <tr>\n",
       "      <th>passed</th>\n",
       "      <td>0.165053</td>\n",
       "    </tr>\n",
       "    <tr>\n",
       "      <th>wrong</th>\n",
       "      <td>0.119015</td>\n",
       "    </tr>\n",
       "    <tr>\n",
       "      <th>discovered</th>\n",
       "      <td>0.115364</td>\n",
       "    </tr>\n",
       "    <tr>\n",
       "      <th>viewed</th>\n",
       "      <td>0.086751</td>\n",
       "    </tr>\n",
       "    <tr>\n",
       "      <th>started_attempt</th>\n",
       "      <td>0.043074</td>\n",
       "    </tr>\n",
       "    <tr>\n",
       "      <th>correct_ratio</th>\n",
       "      <td>0.041175</td>\n",
       "    </tr>\n",
       "    <tr>\n",
       "      <th>day</th>\n",
       "      <td>0.038633</td>\n",
       "    </tr>\n",
       "    <tr>\n",
       "      <th>steps_discoverd_passed</th>\n",
       "      <td>0.005228</td>\n",
       "    </tr>\n",
       "  </tbody>\n",
       "</table>\n",
       "</div>"
      ],
      "text/plain": [
       "                          weight\n",
       "correct                 0.385706\n",
       "passed                  0.165053\n",
       "wrong                   0.119015\n",
       "discovered              0.115364\n",
       "viewed                  0.086751\n",
       "started_attempt         0.043074\n",
       "correct_ratio           0.041175\n",
       "day                     0.038633\n",
       "steps_discoverd_passed  0.005228"
      ]
     },
     "execution_count": 301,
     "metadata": {},
     "output_type": "execute_result"
    }
   ],
   "source": [
    "# важность фич\n",
    "fimp = mu.get_feature_importances_df(rf.feature_importances_, X_train.columns)\n",
    "fimp.head(15)"
   ]
  },
  {
   "cell_type": "markdown",
   "metadata": {},
   "source": [
    "## кроссвалидация"
   ]
  },
  {
   "cell_type": "code",
   "execution_count": 302,
   "metadata": {
    "ExecuteTime": {
     "end_time": "2019-05-17T04:52:34.889560Z",
     "start_time": "2019-05-17T04:52:24.852673Z"
    }
   },
   "outputs": [
    {
     "name": "stdout",
     "output_type": "stream",
     "text": [
      "mean score 0.942697569683796\n"
     ]
    }
   ],
   "source": [
    "# значение к метрике на кроссвалидации коррелирует к метрике на степике\n",
    "\n",
    "rfcv = RandomForestClassifier(**rf.get_params())\n",
    "\n",
    "cv_scores = cross_val_score(rfcv, X_train_p, y_train, scoring='roc_auc', cv=10, n_jobs=-1)\n",
    "mean_cv_scores = np.mean(cv_scores)\n",
    "print ('mean score', mean_cv_scores)"
   ]
  },
  {
   "cell_type": "markdown",
   "metadata": {},
   "source": [
    "## Сохранение модели"
   ]
  },
  {
   "cell_type": "code",
   "execution_count": 267,
   "metadata": {
    "ExecuteTime": {
     "end_time": "2019-05-17T04:52:34.944547Z",
     "start_time": "2019-05-17T04:52:34.894218Z"
    }
   },
   "outputs": [],
   "source": [
    "# Расскоментируйте, если нужно сохранить модель\n",
    "# !mkdir ./bin_models\n",
    "# joblib.dump(rf, './bin_models/baseline_random_forest.bin')\n",
    "\n",
    "# код для загрузки модели\n",
    "# rf = joblib.load('./bin_models/baseline_random_forest.bin')"
   ]
  },
  {
   "cell_type": "markdown",
   "metadata": {},
   "source": [
    "# Сделать предсказание по сабмиту"
   ]
  },
  {
   "cell_type": "code",
   "execution_count": 306,
   "metadata": {
    "ExecuteTime": {
     "end_time": "2019-05-17T04:52:36.885474Z",
     "start_time": "2019-05-17T04:52:34.948143Z"
    }
   },
   "outputs": [],
   "source": [
    "SUBMIT_NUM = 6\n",
    "\n",
    "events_pred  = pd.read_csv(\"./data/events_data_test.zip\")\n",
    "submissions_pred = pd.read_csv(\"./data/submission_data_test.zip\")\n",
    "X_pred , y_pred = di.get_x_y(events_pred, submissions_pred, 3, False)"
   ]
  },
  {
   "cell_type": "code",
   "execution_count": 307,
   "metadata": {},
   "outputs": [],
   "source": [
    "#X_pred , y_pred"
   ]
  },
  {
   "cell_type": "code",
   "execution_count": 308,
   "metadata": {
    "ExecuteTime": {
     "end_time": "2019-05-17T04:52:36.885474Z",
     "start_time": "2019-05-17T04:52:34.948143Z"
    }
   },
   "outputs": [],
   "source": [
    "X_pred['correct_ratio'] = X_pred.correct / (X_pred.correct + X_pred.wrong)\n",
    "X_pred['steps_discoverd_passed'] = (X_pred.discovered - X_pred.passed) / X_pred.day"
   ]
  },
  {
   "cell_type": "code",
   "execution_count": 309,
   "metadata": {
    "ExecuteTime": {
     "end_time": "2019-05-17T04:52:36.885474Z",
     "start_time": "2019-05-17T04:52:34.948143Z"
    }
   },
   "outputs": [],
   "source": [
    "X_pred_p = baseline_transform.transform(X_pred)"
   ]
  },
  {
   "cell_type": "code",
   "execution_count": 311,
   "metadata": {
    "ExecuteTime": {
     "end_time": "2019-05-17T04:52:36.885474Z",
     "start_time": "2019-05-17T04:52:34.948143Z"
    },
    "scrolled": true
   },
   "outputs": [
    {
     "name": "stdout",
     "output_type": "stream",
     "text": [
      "Прогноз сохранен в файл  ./reports/predict_2019-06-01_submit_6.csv\n",
      "Распределение \"вероятностей\" модели\n"
     ]
    },
    {
     "data": {
      "text/plain": [
       "(-0.001, 0.1]    3314\n",
       "(0.1, 0.2]        135\n",
       "(0.2, 0.3]        195\n",
       "(0.3, 0.4]        233\n",
       "(0.4, 0.5]        669\n",
       "(0.5, 0.6]        482\n",
       "(0.6, 0.7]        271\n",
       "(0.7, 0.8]        255\n",
       "(0.8, 0.9]        136\n",
       "(0.9, 1.0]        494\n",
       "dtype: int64"
      ]
     },
     "execution_count": 311,
     "metadata": {},
     "output_type": "execute_result"
    }
   ],
   "source": [
    "# pay attention to classifier\n",
    "pred_proba = rf.predict_proba(X_pred_p)[:, 1]\n",
    "rep_df = rep.create_report(X_pred.index, pred_proba)\n",
    "assert rep_df.user_id.nunique() == X_pred.index.nunique()\n",
    "print ('Прогноз сохранен в файл ', rep.save_report(rep_df, SUBMIT_NUM))\n",
    "\n",
    "print ('Распределение \"вероятностей\" модели')\n",
    "pd.cut(pred_proba, 10).value_counts()"
   ]
  },
  {
   "cell_type": "code",
   "execution_count": 312,
   "metadata": {},
   "outputs": [
    {
     "data": {
      "text/plain": [
       "(6184,)"
      ]
     },
     "execution_count": 312,
     "metadata": {},
     "output_type": "execute_result"
    }
   ],
   "source": [
    "pred_proba.shape"
   ]
  },
  {
   "cell_type": "code",
   "execution_count": 313,
   "metadata": {},
   "outputs": [
    {
     "name": "stdout",
     "output_type": "stream",
     "text": [
      "roc на test 0.999447737874529\n"
     ]
    }
   ],
   "source": [
    "roc_score = roc_auc_score(y_pred, pred_proba)\n",
    "print('roc на test', roc_score)"
   ]
  },
  {
   "cell_type": "markdown",
   "metadata": {},
   "source": [
    "### SVC"
   ]
  },
  {
   "cell_type": "code",
   "execution_count": 27,
   "metadata": {},
   "outputs": [
    {
     "data": {
      "text/plain": [
       "SVC(C=1, cache_size=200, class_weight='balanced', coef0=0.0,\n",
       "  decision_function_shape='ovr', degree=3, gamma='scale', kernel='linear',\n",
       "  max_iter=-1, probability=True, random_state=496, shrinking=True,\n",
       "  tol=0.001, verbose=False)"
      ]
     },
     "execution_count": 27,
     "metadata": {},
     "output_type": "execute_result"
    }
   ],
   "source": [
    "svc = SVC(kernel = 'linear',\n",
    "          gamma = 'scale',\n",
    "          C = 1, #наилучший С был получен в одной из попыток, похоже классификатор не очень хорошо может задать разделяющую плоскость. \n",
    "          random_state = seed,          \n",
    "          decision_function_shape = 'ovr',                             \n",
    "          class_weight = 'balanced',     \n",
    "          probability = True)\n",
    "\n",
    "svc.fit(X_train, y_train)"
   ]
  },
  {
   "cell_type": "code",
   "execution_count": 28,
   "metadata": {},
   "outputs": [
    {
     "name": "stdout",
     "output_type": "stream",
     "text": [
      "roc на test 0.9147754157419316\n"
     ]
    }
   ],
   "source": [
    "pred_proba = svc.predict_proba(X_test)\n",
    "roc_score = roc_auc_score(y_test, pred_proba[:, 1])\n",
    "print('roc на test', roc_score)"
   ]
  },
  {
   "cell_type": "code",
   "execution_count": 29,
   "metadata": {},
   "outputs": [
    {
     "data": {
      "image/png": "[encoded data removed]",
      "text/plain": [
       "<Figure size 432x288 with 1 Axes>"
      ]
     },
     "metadata": {
      "needs_background": "light"
     },
     "output_type": "display_data"
    }
   ],
   "source": [
    "lw = 2\n",
    "fpr, tpr, thresholds = roc_curve(y_test, pred_proba[:,1])\n",
    "roc_auc= auc(fpr, tpr)\n",
    "plt.figure()\n",
    "plt.plot(fpr, tpr, color='darkorange',\n",
    "         lw=2, label='ROC curve (area = %0.2f)' % roc_auc)\n",
    "plt.plot([0, 1], [0, 1], color='navy', lw=lw, linestyle='--')\n",
    "plt.xlim([0.0, 1.0])\n",
    "plt.ylim([0.0, 1.05])\n",
    "plt.xlabel('False Positive Rate')\n",
    "plt.ylabel('True Positive Rate')\n",
    "plt.title('Receiver operating characteristic example')\n",
    "plt.legend(loc=\"lower right\")\n",
    "plt.show();"
   ]
  },
  {
   "cell_type": "code",
   "execution_count": null,
   "metadata": {},
   "outputs": [],
   "source": []
  },
  {
   "cell_type": "code",
   "execution_count": 41,
   "metadata": {},
   "outputs": [],
   "source": [
    "my_scorer = make_scorer(roc_auc_score)\n",
    "skv = StratifiedKFold(n_splits = 5,random_state=seed, shuffle=True)\n",
    "\n",
    "param_grid = {\n",
    "    'C': [0.01, 0.1, 0.3, 0.5, 0.8, 1.5, 5, 10],\n",
    "    'kernel': ['linear', 'rbf', 'poly']\n",
    "}\n",
    "\n",
    "\n",
    "bclf = GridSearchCV(svc, param_grid,\n",
    "                   scoring=my_scorer, cv=skv, verbose=9, n_jobs=-1,refit='roc_auc')"
   ]
  },
  {
   "cell_type": "code",
   "execution_count": 42,
   "metadata": {},
   "outputs": [
    {
     "name": "stdout",
     "output_type": "stream",
     "text": [
      "Fitting 5 folds for each of 24 candidates, totalling 120 fits\n"
     ]
    },
    {
     "name": "stderr",
     "output_type": "stream",
     "text": [
      "[Parallel(n_jobs=-1)]: Using backend LokyBackend with 4 concurrent workers.\n",
      "[Parallel(n_jobs=-1)]: Done  10 tasks      | elapsed:  1.1min\n",
      "[Parallel(n_jobs=-1)]: Done  24 tasks      | elapsed:  2.6min\n",
      "[Parallel(n_jobs=-1)]: Done  42 tasks      | elapsed:  4.7min\n",
      "[Parallel(n_jobs=-1)]: Done  64 tasks      | elapsed: 10.0min\n",
      "[Parallel(n_jobs=-1)]: Done  90 tasks      | elapsed: 19.2min\n",
      "[Parallel(n_jobs=-1)]: Done 120 out of 120 | elapsed: 61.6min finished\n"
     ]
    },
    {
     "data": {
      "text/plain": [
       "GridSearchCV(cv=StratifiedKFold(n_splits=5, random_state=496, shuffle=True),\n",
       "       error_score='raise-deprecating',\n",
       "       estimator=SVC(C=1, cache_size=200, class_weight='balanced', coef0=0.0,\n",
       "  decision_function_shape='ovr', degree=3, gamma='scale', kernel='linear',\n",
       "  max_iter=-1, probability=True, random_state=496, shrinking=True,\n",
       "  tol=0.001, verbose=False),\n",
       "       fit_params=None, iid='warn', n_jobs=-1,\n",
       "       param_grid={'C': [0.01, 0.1, 0.3, 0.5, 0.8, 1.5, 5, 10], 'kernel': ['linear', 'rbf', 'poly']},\n",
       "       pre_dispatch='2*n_jobs', refit='roc_auc', return_train_score='warn',\n",
       "       scoring=make_scorer(roc_auc_score), verbose=9)"
      ]
     },
     "execution_count": 42,
     "metadata": {},
     "output_type": "execute_result"
    }
   ],
   "source": [
    "bclf.fit(X_train, y_train)"
   ]
  },
  {
   "cell_type": "code",
   "execution_count": 46,
   "metadata": {},
   "outputs": [
    {
     "data": {
      "text/plain": [
       "{'C': 10, 'kernel': 'rbf'}"
      ]
     },
     "execution_count": 46,
     "metadata": {},
     "output_type": "execute_result"
    }
   ],
   "source": [
    "bclf.best_params_\n",
    "best_clf = bclf.best_estimator_"
   ]
  },
  {
   "cell_type": "code",
   "execution_count": 47,
   "metadata": {},
   "outputs": [
    {
     "name": "stdout",
     "output_type": "stream",
     "text": [
      "roc на test 0.9143986617698912\n"
     ]
    }
   ],
   "source": [
    "pred_proba = best_clf.predict_proba(X_test)\n",
    "roc_score = roc_auc_score(y_test, pred_proba[:, 1])\n",
    "print('roc на test', roc_score)"
   ]
  },
  {
   "cell_type": "code",
   "execution_count": 48,
   "metadata": {},
   "outputs": [
    {
     "data": {
      "image/png": "[encoded data removed]",
      "text/plain": [
       "<Figure size 432x288 with 1 Axes>"
      ]
     },
     "metadata": {
      "needs_background": "light"
     },
     "output_type": "display_data"
    }
   ],
   "source": [
    "lw = 2\n",
    "fpr, tpr, thresholds = roc_curve(y_test, pred_proba[:,1])\n",
    "roc_auc= auc(fpr, tpr)\n",
    "plt.figure()\n",
    "plt.plot(fpr, tpr, color='darkorange',\n",
    "         lw=2, label='ROC curve (area = %0.2f)' % roc_auc)\n",
    "plt.plot([0, 1], [0, 1], color='navy', lw=lw, linestyle='--')\n",
    "plt.xlim([0.0, 1.0])\n",
    "plt.ylim([0.0, 1.05])\n",
    "plt.xlabel('False Positive Rate')\n",
    "plt.ylabel('True Positive Rate')\n",
    "plt.title('Receiver operating characteristic example')\n",
    "plt.legend(loc=\"lower right\")\n",
    "plt.show();"
   ]
  },
  {
   "cell_type": "code",
   "execution_count": 49,
   "metadata": {},
   "outputs": [],
   "source": [
    "SUBMIT_NUM = 2\n",
    "\n",
    "events_pred  = pd.read_csv(\"./data/events_data_test.zip\")\n",
    "submissions_pred = pd.read_csv(\"./data/submission_data_test.zip\")\n",
    "X_pred , _ = di.get_x_y(events_pred, submissions_pred)\n",
    "\n",
    "X_pred['correct_ratio'] = X_pred.correct / (X_pred.correct + X_pred.wrong)\n",
    "X_pred.correct_ratio.fillna(0,inplace=True)"
   ]
  },
  {
   "cell_type": "code",
   "execution_count": 50,
   "metadata": {},
   "outputs": [
    {
     "name": "stdout",
     "output_type": "stream",
     "text": [
      "Прогноз сохранен в файл  ./reports/predict_2019-06-01_submit_2.csv\n",
      "Распределение \"вероятностей\" модели\n"
     ]
    },
    {
     "data": {
      "text/plain": [
       "(-0.000786, 0.0994]    3683\n",
       "(0.0994, 0.199]         316\n",
       "(0.199, 0.298]          218\n",
       "(0.298, 0.397]          277\n",
       "(0.397, 0.496]          342\n",
       "(0.496, 0.596]          274\n",
       "(0.596, 0.695]          718\n",
       "(0.695, 0.794]          199\n",
       "(0.794, 0.893]          112\n",
       "(0.893, 0.992]           45\n",
       "dtype: int64"
      ]
     },
     "execution_count": 50,
     "metadata": {},
     "output_type": "execute_result"
    }
   ],
   "source": [
    "pred_proba = bclf.predict_proba(X_pred)[:, 1]\n",
    "rep_df = rep.create_report(X_pred.index, pred_proba)\n",
    "assert rep_df.user_id.nunique() == X_pred.index.nunique()\n",
    "print ('Прогноз сохранен в файл ', rep.save_report(rep_df, SUBMIT_NUM))\n",
    "\n",
    "print ('Распределение \"вероятностей\" модели')\n",
    "pd.cut(pred_proba, 10).value_counts()"
   ]
  },
  {
   "cell_type": "markdown",
   "metadata": {},
   "source": [
    "### XGBoost."
   ]
  },
  {
   "cell_type": "code",
   "execution_count": 154,
   "metadata": {},
   "outputs": [],
   "source": [
    "params={\n",
    "    'n_estimators':500,\n",
    "    'objective': 'binary:logistic',\n",
    "    'learning_rate': 0.05,\n",
    "    # 'gamma':0.01,\n",
    "    'subsample':0.7,\n",
    "    'colsample_bytree':0.3,\n",
    "    'min_child_weight':4,\n",
    "    'max_depth':5,\n",
    "    'random_state':seed,\n",
    "    'eval_metric':'auc',\n",
    "    \n",
    "    }\n",
    "\n",
    "xbg_clf = XGBClassifier(**params)"
   ]
  },
  {
   "cell_type": "code",
   "execution_count": 155,
   "metadata": {},
   "outputs": [
    {
     "data": {
      "text/plain": [
       "XGBClassifier(base_score=0.5, booster='gbtree', colsample_bylevel=1,\n",
       "       colsample_bytree=0.3, eval_metric='auc', gamma=0,\n",
       "       learning_rate=0.05, max_delta_step=0, max_depth=5,\n",
       "       min_child_weight=4, missing=None, n_estimators=500, n_jobs=1,\n",
       "       nthread=None, objective='binary:logistic', random_state=496,\n",
       "       reg_alpha=0, reg_lambda=1, scale_pos_weight=1, seed=None,\n",
       "       silent=True, subsample=0.7)"
      ]
     },
     "execution_count": 155,
     "metadata": {},
     "output_type": "execute_result"
    }
   ],
   "source": [
    "xbg_clf.fit(X_train_p,y_train)"
   ]
  },
  {
   "cell_type": "code",
   "execution_count": 156,
   "metadata": {},
   "outputs": [
    {
     "name": "stdout",
     "output_type": "stream",
     "text": [
      "roc на test 0.9252449630019497\n"
     ]
    }
   ],
   "source": [
    "pred_proba = xbg_clf.predict_proba(X_test_p)\n",
    "roc_score = roc_auc_score(y_test, pred_proba[:, 1])\n",
    "print('roc на test', roc_score)"
   ]
  },
  {
   "cell_type": "code",
   "execution_count": 157,
   "metadata": {},
   "outputs": [
    {
     "data": {
      "image/png": "[encoded data removed]",
      "text/plain": [
       "<Figure size 432x288 with 1 Axes>"
      ]
     },
     "metadata": {
      "needs_background": "light"
     },
     "output_type": "display_data"
    }
   ],
   "source": [
    "lw = 2\n",
    "fpr, tpr, thresholds = roc_curve(y_test, pred_proba[:,1])\n",
    "roc_auc= auc(fpr, tpr)\n",
    "plt.figure()\n",
    "plt.plot(fpr, tpr, color='darkorange',\n",
    "         lw=2, label='ROC curve (area = %0.2f)' % roc_auc)\n",
    "plt.plot([0, 1], [0, 1], color='navy', lw=lw, linestyle='--')\n",
    "plt.xlim([0.0, 1.0])\n",
    "plt.ylim([0.0, 1.05])\n",
    "plt.xlabel('False Positive Rate')\n",
    "plt.ylabel('True Positive Rate')\n",
    "plt.title('Receiver operating characteristic example')\n",
    "plt.legend(loc=\"lower right\")\n",
    "plt.show();"
   ]
  },
  {
   "cell_type": "code",
   "execution_count": 158,
   "metadata": {},
   "outputs": [
    {
     "name": "stdout",
     "output_type": "stream",
     "text": [
      "mean score 0.9236101455924143\n"
     ]
    }
   ],
   "source": [
    "cv_scores = cross_val_score(xbg_clf, X_train, y_train, scoring='roc_auc', cv=5, n_jobs=-1)\n",
    "mean_cv_scores = np.mean(cv_scores)\n",
    "print ('mean score', mean_cv_scores)"
   ]
  },
  {
   "cell_type": "code",
   "execution_count": 160,
   "metadata": {},
   "outputs": [
    {
     "data": {
      "text/html": [
       "<div>\n",
       "<style scoped>\n",
       "    .dataframe tbody tr th:only-of-type {\n",
       "        vertical-align: middle;\n",
       "    }\n",
       "\n",
       "    .dataframe tbody tr th {\n",
       "        vertical-align: top;\n",
       "    }\n",
       "\n",
       "    .dataframe thead th {\n",
       "        text-align: right;\n",
       "    }\n",
       "</style>\n",
       "<table border=\"1\" class=\"dataframe\">\n",
       "  <thead>\n",
       "    <tr style=\"text-align: right;\">\n",
       "      <th></th>\n",
       "      <th>weight</th>\n",
       "    </tr>\n",
       "  </thead>\n",
       "  <tbody>\n",
       "    <tr>\n",
       "      <th>viewed</th>\n",
       "      <td>0.162994</td>\n",
       "    </tr>\n",
       "    <tr>\n",
       "      <th>discovered</th>\n",
       "      <td>0.137757</td>\n",
       "    </tr>\n",
       "    <tr>\n",
       "      <th>correct_ratio</th>\n",
       "      <td>0.126924</td>\n",
       "    </tr>\n",
       "    <tr>\n",
       "      <th>correct</th>\n",
       "      <td>0.108211</td>\n",
       "    </tr>\n",
       "    <tr>\n",
       "      <th>diff_discoverd_passed</th>\n",
       "      <td>0.106857</td>\n",
       "    </tr>\n",
       "    <tr>\n",
       "      <th>passed</th>\n",
       "      <td>0.103410</td>\n",
       "    </tr>\n",
       "    <tr>\n",
       "      <th>wrong</th>\n",
       "      <td>0.103041</td>\n",
       "    </tr>\n",
       "    <tr>\n",
       "      <th>started_attempt</th>\n",
       "      <td>0.090730</td>\n",
       "    </tr>\n",
       "    <tr>\n",
       "      <th>day</th>\n",
       "      <td>0.060076</td>\n",
       "    </tr>\n",
       "  </tbody>\n",
       "</table>\n",
       "</div>"
      ],
      "text/plain": [
       "                         weight\n",
       "viewed                 0.162994\n",
       "discovered             0.137757\n",
       "correct_ratio          0.126924\n",
       "correct                0.108211\n",
       "diff_discoverd_passed  0.106857\n",
       "passed                 0.103410\n",
       "wrong                  0.103041\n",
       "started_attempt        0.090730\n",
       "day                    0.060076"
      ]
     },
     "execution_count": 160,
     "metadata": {},
     "output_type": "execute_result"
    }
   ],
   "source": [
    "fimp = mu.get_feature_importances_df(xbg_clf.feature_importances_, X_train.columns)\n",
    "fimp.head(15)"
   ]
  },
  {
   "cell_type": "markdown",
   "metadata": {},
   "source": [
    "# Сделать предсказание по сабмиту"
   ]
  },
  {
   "cell_type": "code",
   "execution_count": 165,
   "metadata": {},
   "outputs": [],
   "source": [
    "SUBMIT_NUM = 5\n",
    "\n",
    "events_pred  = pd.read_csv(\"./data/events_data_test.zip\")\n",
    "submissions_pred = pd.read_csv(\"./data/submission_data_test.zip\")\n",
    "X_pred , _ = di.get_x_y(events_pred, submissions_pred)"
   ]
  },
  {
   "cell_type": "code",
   "execution_count": 166,
   "metadata": {
    "ExecuteTime": {
     "end_time": "2019-05-17T04:52:36.885474Z",
     "start_time": "2019-05-17T04:52:34.948143Z"
    }
   },
   "outputs": [],
   "source": [
    "X_pred['correct_ratio'] = X_pred.correct / (X_pred.correct + X_pred.wrong)\n",
    "X_pred['steps_discoverd_passed'] = (X_pred.discovered - X_pred.passed) / X_pred.day"
   ]
  },
  {
   "cell_type": "code",
   "execution_count": 167,
   "metadata": {
    "ExecuteTime": {
     "end_time": "2019-05-17T04:52:36.885474Z",
     "start_time": "2019-05-17T04:52:34.948143Z"
    }
   },
   "outputs": [],
   "source": [
    "X_pred_p = baseline_transform.transform(X_pred)"
   ]
  },
  {
   "cell_type": "code",
   "execution_count": 168,
   "metadata": {},
   "outputs": [
    {
     "name": "stdout",
     "output_type": "stream",
     "text": [
      "Прогноз сохранен в файл  ./reports/predict_2019-06-01_submit_5.csv\n",
      "Распределение \"вероятностей\" модели\n"
     ]
    },
    {
     "data": {
      "text/plain": [
       "(-0.00024, 0.101]    3503\n",
       "(0.101, 0.201]        415\n",
       "(0.201, 0.3]          701\n",
       "(0.3, 0.4]            348\n",
       "(0.4, 0.5]            196\n",
       "(0.5, 0.6]            169\n",
       "(0.6, 0.7]            132\n",
       "(0.7, 0.8]            111\n",
       "(0.8, 0.9]             97\n",
       "(0.9, 1.0]            512\n",
       "dtype: int64"
      ]
     },
     "execution_count": 168,
     "metadata": {},
     "output_type": "execute_result"
    }
   ],
   "source": [
    "pred_proba = xbg_clf.predict_proba(X_pred_p)[:, 1]\n",
    "rep_df = rep.create_report(X_pred.index, pred_proba)\n",
    "assert rep_df.user_id.nunique() == X_pred.index.nunique()\n",
    "print ('Прогноз сохранен в файл ', rep.save_report(rep_df, SUBMIT_NUM))\n",
    "\n",
    "print ('Распределение \"вероятностей\" модели')\n",
    "pd.cut(pred_proba, 10).value_counts()"
   ]
  },
  {
   "cell_type": "code",
   "execution_count": null,
   "metadata": {},
   "outputs": [],
   "source": []
  },
  {
   "cell_type": "code",
   "execution_count": null,
   "metadata": {},
   "outputs": [],
   "source": []
  }
 ],
 "metadata": {
  "kernelspec": {
   "display_name": "Python 3",
   "language": "python",
   "name": "python3"
  },
  "language_info": {
   "codemirror_mode": {
    "name": "ipython",
    "version": 3
   },
   "file_extension": ".py",
   "mimetype": "text/x-python",
   "name": "python",
   "nbconvert_exporter": "python",
   "pygments_lexer": "ipython3",
   "version": "3.6.8"
  },
  "toc": {
   "nav_menu": {},
   "number_sections": true,
   "sideBar": true,
   "skip_h1_title": false,
   "toc_cell": false,
   "toc_position": {
    "height": "859px",
    "left": "0px",
    "right": "1708px",
    "top": "110px",
    "width": "212px"
   },
   "toc_section_display": "block",
   "toc_window_display": true
  },
  "varInspector": {
   "cols": {
    "lenName": 16,
    "lenType": 16,
    "lenVar": 40
   },
   "kernels_config": {
    "python": {
     "delete_cmd_postfix": "",
     "delete_cmd_prefix": "del ",
     "library": "var_list.py",
     "varRefreshCmd": "print(var_dic_list())"
    },
    "r": {
     "delete_cmd_postfix": ") ",
     "delete_cmd_prefix": "rm(",
     "library": "var_list.r",
     "varRefreshCmd": "cat(var_dic_list()) "
    }
   },
   "types_to_exclude": [
    "module",
    "function",
    "builtin_function_or_method",
    "instance",
    "_Feature"
   ],
   "window_display": false
  }
 },
 "nbformat": 4,
 "nbformat_minor": 2
}
